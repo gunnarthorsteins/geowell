{
 "cells": [
  {
   "cell_type": "markdown",
   "source": [
    "The elevation data is from National Land Survey of Iceland, [link here](https://ftp.lmi.is/gisdata/raster/).\n",
    "\n",
    "It is originally a `geotiff` (*geo* for *georeferenced*) file which we need to clip (I use the open-source `QGis`) and turn into a mesh (using Python) to allow for plotting in `bokeh`.\n",
    "\n",
    "This notebook makes use of `gdal` which is infernally difficult to install. To avoid the hassle I recommend avoiding running it on a platform like Google Colab which has those packages preinstalled."
   ],
   "metadata": {}
  },
  {
   "cell_type": "code",
   "execution_count": null,
   "source": [
    "from osgeo import gdal\n",
    "import pandas as pd\n",
    "import numpy as np"
   ],
   "outputs": [],
   "metadata": {}
  },
  {
   "cell_type": "markdown",
   "source": [
    "## Instructions for Clipping Raster Data\r\n",
    "Install [QGis](https://qgis.org/en/site/forusers/download.html). Import the extracted `geotiff` file. The workflow is then as follows:\r\n",
    "\r\n",
    "Raster → Extraction → Clip raster by extent → Clipping Extent → Draw on Canvas"
   ],
   "metadata": {}
  },
  {
   "cell_type": "code",
   "execution_count": null,
   "source": [
    "location = 'Svartsengi'"
   ],
   "outputs": [],
   "metadata": {}
  },
  {
   "cell_type": "code",
   "execution_count": null,
   "source": [
    "ds = gdal.Open(f'data/{location}.tif')\n",
    "\n",
    "array = ds.GetRasterBand(1).ReadAsArray()\n",
    "flattened = array.flatten()\n",
    "geotransform = ds.GetGeoTransform()\n",
    "res = geotransform[1]\n",
    "x_min = geotransform[0]\n",
    "y_max = geotransform[3]\n",
    "x_size = ds.RasterXSize\n",
    "y_size = ds.RasterYSize\n",
    "x_start = x_min + res / 2\n",
    "y_start = y_max - res / 2\n",
    "ds = None\n",
    "\n",
    "x = np.arange(x_start, x_start + x_size * res, res)\n",
    "y = np.arange(y_start, y_start - y_size * res, -res)\n",
    "x = np.tile(x, y_size)\n",
    "y = np.repeat(y, x_size)\n",
    "\n",
    "dictionary = {'x': x,\n",
    "              'y': y,\n",
    "              'value': flattened}\n",
    "df = pd.DataFrame(dictionary)\n",
    "print(df.head())\n",
    "df.to_csv(f'data/{location}.csv')"
   ],
   "outputs": [],
   "metadata": {}
  }
 ],
 "metadata": {
  "orig_nbformat": 4,
  "language_info": {
   "name": "python",
   "version": "3.9.5",
   "mimetype": "text/x-python",
   "codemirror_mode": {
    "name": "ipython",
    "version": 3
   },
   "pygments_lexer": "ipython3",
   "nbconvert_exporter": "python",
   "file_extension": ".py"
  },
  "kernelspec": {
   "name": "python3",
   "display_name": "Python 3.9.5 64-bit ('base': conda)"
  },
  "interpreter": {
   "hash": "a46f3b4842275094a035d30f692052e15ded36b70908f0c1c61ab8c45991860a"
  }
 },
 "nbformat": 4,
 "nbformat_minor": 2
}