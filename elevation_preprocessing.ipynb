{
 "cells": [
  {
   "cell_type": "markdown",
   "source": [
    "The elevation data is from National Land Survey of Iceland, [link here](https://ftp.lmi.is/gisdata/raster/).\r\n",
    "\r\n",
    "It is originally a `geotiff` file which we need to clip (using QGis) and turn into a mesh (using Python) to allow for plotting in `bokeh`.\r\n",
    "\r\n",
    "This notebook makes use of `gdal` which is notoriously difficult to install on CPU so I recommend running it in Google Colab."
   ],
   "metadata": {}
  },
  {
   "cell_type": "code",
   "execution_count": null,
   "source": [
    "from osgeo import gdal\r\n",
    "import pandas as pd\r\n",
    "import numpy as np"
   ],
   "outputs": [],
   "metadata": {}
  },
  {
   "cell_type": "markdown",
   "source": [
    "## Instructions for Clipping Raster Data\r\n",
    "Install [QGis](https://qgis.org/en/site/forusers/download.html). Import the extracted `geotiff` file. The workflow is then as follows:\r\n",
    "\r\n",
    "Raster → Extraction → Clip raster by extent → Clipping Extent → Draw on Canvas"
   ],
   "metadata": {}
  },
  {
   "cell_type": "code",
   "execution_count": null,
   "source": [
    "location = 'Svartsengi'"
   ],
   "outputs": [],
   "metadata": {}
  },
  {
   "cell_type": "code",
   "execution_count": null,
   "source": [
    "ds = gdal.Open(f'data/{Svartsengi}.tif')\r\n",
    "\r\n",
    "array = ds.GetRasterBand(1).ReadAsArray()\r\n",
    "flattened = array.flatten()\r\n",
    "geotransform = ds.GetGeoTransform()\r\n",
    "res = geotransform[1]\r\n",
    "x_min = geotransform[0]\r\n",
    "y_max = geotransform[3]\r\n",
    "x_size = ds.RasterXSize\r\n",
    "y_size = ds.RasterYSize\r\n",
    "x_start = x_min + res / 2\r\n",
    "y_start = y_max - res / 2\r\n",
    "ds = None\r\n",
    "\r\n",
    "x = np.arange(x_start, x_start + x_size * res, res)\r\n",
    "y = np.arange(y_start, y_start - y_size * res, -res)\r\n",
    "x = np.tile(x, y_size)\r\n",
    "y = np.repeat(y, x_size)\r\n",
    "\r\n",
    "dictionary = {'x': x,\r\n",
    "              'y': y,\r\n",
    "              'value': flattened}\r\n",
    "df = pd.DataFrame(dictionary)\r\n",
    "print(df.head())\r\n",
    "df.to_csv(f'data/{location}.csv')"
   ],
   "outputs": [],
   "metadata": {}
  }
 ],
 "metadata": {
  "orig_nbformat": 4,
  "language_info": {
   "name": "python"
  }
 },
 "nbformat": 4,
 "nbformat_minor": 2
}